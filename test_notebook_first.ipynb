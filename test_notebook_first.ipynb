{
 "cells": [
  {
   "cell_type": "code",
   "execution_count": null,
   "id": "143ad6a9-25d6-4f97-875c-0f63b7caee72",
   "metadata": {},
   "outputs": [],
   "source": [
    "#importing packages\n",
    "import pandas as pd\n",
    "import os "
   ]
  },
  {
   "cell_type": "code",
   "execution_count": null,
   "id": "fbe1c6a6-446e-4a33-b47f-759305c24646",
   "metadata": {},
   "outputs": [],
   "source": [
    "#finding current path\n",
    "os.getcwd()\n",
    "#assigning csv to dataframe\n",
    "order_list = pd.read_csv('list_of_orders.csv', index_col=0) #reading list of orders file\n",
    "order_breakdown = pd.read_csv('order_breakdown.csv', index_col=0) #reading list of orders file\n",
    "#print(order_breakdown)"
   ]
  },
  {
   "cell_type": "code",
   "execution_count": null,
   "id": "459c42c0-3ebc-46f7-82e3-f46cb5861491",
   "metadata": {},
   "outputs": [],
   "source": [
    "# Merging dataframes\n",
    "combined = pd.merge(order_list, order_breakdown, how='inner', on = 'Order ID')\n",
    "#ordering by order date\n",
    "combined.sort_values(by=['Order Date'])\n"
   ]
  },
  {
   "cell_type": "code",
   "execution_count": null,
   "id": "a2b149b8-c5c5-4111-af8d-971897ca57b2",
   "metadata": {},
   "outputs": [],
   "source": [
    "#writing to csv\n",
    "combined.to_csv('combined.csv')"
   ]
  },
  {
   "cell_type": "code",
   "execution_count": null,
   "id": "37aa2a4a-f44e-4366-8e09-0f56c82520e8",
   "metadata": {},
   "outputs": [],
   "source": []
  }
 ],
 "metadata": {
  "kernelspec": {
   "display_name": "Python 3 (ipykernel)",
   "language": "python",
   "name": "python3"
  },
  "language_info": {
   "codemirror_mode": {
    "name": "ipython",
    "version": 3
   },
   "file_extension": ".py",
   "mimetype": "text/x-python",
   "name": "python",
   "nbconvert_exporter": "python",
   "pygments_lexer": "ipython3",
   "version": "3.9.7"
  }
 },
 "nbformat": 4,
 "nbformat_minor": 5
}
