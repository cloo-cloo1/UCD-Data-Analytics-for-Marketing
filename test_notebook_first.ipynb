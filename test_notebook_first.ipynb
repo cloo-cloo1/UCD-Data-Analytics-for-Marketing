{
 "cells": [
  {
   "cell_type": "code",
   "execution_count": 9,
   "id": "143ad6a9-25d6-4f97-875c-0f63b7caee72",
   "metadata": {},
   "outputs": [],
   "source": [
    "import pandas as pd\n"
   ]
  },
  {
   "cell_type": "code",
   "execution_count": 11,
   "id": "9d5d775e-dd34-4ed5-8896-3c27f0d1f28d",
   "metadata": {},
   "outputs": [],
   "source": [
    "df = pd.read_csv('C:/Users/odrisclo/Desktop/UCD Python Course/Project/Project test/Project-test/list_of_orders.csv', index_col=0)"
   ]
  },
  {
   "cell_type": "code",
   "execution_count": 12,
   "id": "21e8b8e9-8e66-46d8-bbfb-b099fbe2cdf5",
   "metadata": {},
   "outputs": [
    {
     "name": "stdout",
     "output_type": "stream",
     "text": [
      "                 Order Date        Customer Name        City         Country  \\\n",
      "Order ID                                                                       \n",
      "BN-2011-7407039  01/01/2011           Ruby Patel   Stockholm          Sweden   \n",
      "AZ-2011-9050313  03/01/2011       Summer Hayward   Southport  United Kingdom   \n",
      "AZ-2011-6674300  04/01/2011     Devin Huddleston     Valence          France   \n",
      "BN-2011-2819714  04/01/2011          Mary Parker  Birmingham  United Kingdom   \n",
      "AZ-2011-617423   05/01/2011         Daniel Burke  Echirolles          France   \n",
      "...                     ...                  ...         ...             ...   \n",
      "AZ-2014-8174835  31/12/2014         Eloise Sykes   Bielefeld         Germany   \n",
      "AZ-2014-766953   31/12/2014         Jose Gambino  Maidenhead  United Kingdom   \n",
      "AZ-2014-1412225  31/12/2014          Leon Barnes   Worcester  United Kingdom   \n",
      "AZ-2014-7604524  31/12/2014  Rebecca Chamberlain     Hamburg         Germany   \n",
      "BN-2014-4140795  31/12/2014      Daniel Hamilton   Eindhoven     Netherlands   \n",
      "\n",
      "                  Region      Segment   Ship Date     Ship Mode  \\\n",
      "Order ID                                                          \n",
      "BN-2011-7407039    North  Home Office  05/01/2011  Economy Plus   \n",
      "AZ-2011-9050313    North     Consumer  07/01/2011       Economy   \n",
      "AZ-2011-6674300  Central     Consumer  08/01/2011       Economy   \n",
      "BN-2011-2819714    North    Corporate  09/01/2011       Economy   \n",
      "AZ-2011-617423   Central  Home Office  07/01/2011      Priority   \n",
      "...                  ...          ...         ...           ...   \n",
      "AZ-2014-8174835  Central     Consumer  04/01/2015       Economy   \n",
      "AZ-2014-766953     North    Corporate  05/01/2015       Economy   \n",
      "AZ-2014-1412225    North     Consumer  01/01/2015      Priority   \n",
      "AZ-2014-7604524  Central  Home Office  04/01/2015       Economy   \n",
      "BN-2014-4140795  Central  Home Office  05/01/2015  Economy Plus   \n",
      "\n",
      "                                  State  \n",
      "Order ID                                 \n",
      "BN-2011-7407039               Stockholm  \n",
      "AZ-2011-9050313                 England  \n",
      "AZ-2011-6674300    Auvergne-Rhône-Alpes  \n",
      "BN-2011-2819714                 England  \n",
      "AZ-2011-617423     Auvergne-Rhône-Alpes  \n",
      "...                                 ...  \n",
      "AZ-2014-8174835  North Rhine-Westphalia  \n",
      "AZ-2014-766953                  England  \n",
      "AZ-2014-1412225                 England  \n",
      "AZ-2014-7604524                 Hamburg  \n",
      "BN-2014-4140795           North Brabant  \n",
      "\n",
      "[4117 rows x 9 columns]\n"
     ]
    }
   ],
   "source": [
    "print(df)"
   ]
  },
  {
   "cell_type": "code",
   "execution_count": null,
   "id": "eefb4a8d-a4e0-443b-8fe0-5fd2799eff00",
   "metadata": {},
   "outputs": [],
   "source": []
  },
  {
   "cell_type": "code",
   "execution_count": null,
   "id": "459c42c0-3ebc-46f7-82e3-f46cb5861491",
   "metadata": {},
   "outputs": [],
   "source": []
  }
 ],
 "metadata": {
  "kernelspec": {
   "display_name": "Python 3 (ipykernel)",
   "language": "python",
   "name": "python3"
  },
  "language_info": {
   "codemirror_mode": {
    "name": "ipython",
    "version": 3
   },
   "file_extension": ".py",
   "mimetype": "text/x-python",
   "name": "python",
   "nbconvert_exporter": "python",
   "pygments_lexer": "ipython3",
   "version": "3.9.7"
  }
 },
 "nbformat": 4,
 "nbformat_minor": 5
}
