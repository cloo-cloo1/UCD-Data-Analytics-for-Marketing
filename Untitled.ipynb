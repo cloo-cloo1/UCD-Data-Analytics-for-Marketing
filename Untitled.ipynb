{
 "cells": [
  {
   "cell_type": "code",
   "execution_count": null,
   "id": "716883e1-cf1d-4bf5-a1a2-9c3af79f04e5",
   "metadata": {},
   "outputs": [],
   "source": []
  },
  {
   "cell_type": "code",
   "execution_count": null,
   "id": "41b7662a-07e9-4a5f-b7a4-b7d0046dd487",
   "metadata": {},
   "outputs": [],
   "source": [
    "#importing packages\n",
    "import pandas as pd\n",
    "import os \n",
    "import requests"
   ]
  },
  {
   "cell_type": "code",
   "execution_count": null,
   "id": "e0542e50-c592-4cbb-9a86-949253354d1b",
   "metadata": {},
   "outputs": [],
   "source": [
    "#finding current path\n",
    "os.getcwd()\n",
    "#assigning csv to dataframes\n",
    "order_list = pd.read_csv('list_of_orders.csv', index_col=0) #reading list of orders file\n",
    "order_breakdown = pd.read_csv('order_breakdown.csv', index_col=0) #reading list of orders file"
   ]
  },
  {
   "cell_type": "code",
   "execution_count": null,
   "id": "f3e7d337-823c-4115-ae65-052ee9afbfe9",
   "metadata": {},
   "outputs": [],
   "source": [
    "# Merging dataframes from Csv\n",
    "combined = pd.merge(order_list, order_breakdown, how='inner', on = 'Order ID')\n"
   ]
  },
  {
   "cell_type": "code",
   "execution_count": null,
   "id": "0b3c286b-1500-43e4-9de6-bcdf3503840b",
   "metadata": {},
   "outputs": [],
   "source": [
    "#Retrieving country codes & name from API\n",
    "cv19 = requests.get('https://api.covid19api.com/summary')\n",
    "cv19 = cv19.json()\n",
    "df = pd.DataFrame(cv19['Countries'])\n",
    "countries = df[[\"Country\",\"CountryCode\"]]\n"
   ]
  },
  {
   "cell_type": "code",
   "execution_count": null,
   "id": "1090de00-6fab-4485-bdc2-ca1b591d7f2c",
   "metadata": {},
   "outputs": [],
   "source": [
    "# merging dataframes from csv & API\n",
    "df_joined_table = pd.merge(combined,countries, how='left',left_on='Country Name',right_on='CountryCode')\n",
    "df_merged=df_joined_table[['Order Date','Customer Name','City','Country Name','Country','Region','Segment','Ship Date',\n",
    "                     'Ship Mode','State','Product Name','Discount','Sales','Profit','Quantity','Category','Sub-Category']]\n",
    "df_merged"
   ]
  },
  {
   "cell_type": "code",
   "execution_count": null,
   "id": "e527441e-0e57-471f-86e7-6cba00c1a22f",
   "metadata": {},
   "outputs": [],
   "source": []
  }
 ],
 "metadata": {
  "kernelspec": {
   "display_name": "Python 3 (ipykernel)",
   "language": "python",
   "name": "python3"
  },
  "language_info": {
   "codemirror_mode": {
    "name": "ipython",
    "version": 3
   },
   "file_extension": ".py",
   "mimetype": "text/x-python",
   "name": "python",
   "nbconvert_exporter": "python",
   "pygments_lexer": "ipython3",
   "version": "3.9.7"
  }
 },
 "nbformat": 4,
 "nbformat_minor": 5
}
